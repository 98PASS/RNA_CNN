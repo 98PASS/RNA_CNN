{
 "cells": [
  {
   "cell_type": "markdown",
   "id": "informational-keeping",
   "metadata": {},
   "source": [
    "# <center>Projeto de Redes Neurais Artificiais</center>\n",
    "## <center>Detecção e Classificação de Gestos</center>\n",
    "#### <left>Autor: Pedro Antônio de Souza Silva</left>\n",
    "#### <left>Contato: panssfancy@gmail.com</left>\n",
    "---"
   ]
  },
  {
   "cell_type": "markdown",
   "id": "modified-producer",
   "metadata": {},
   "source": [
    "#### <center>Imports Necessários</center>"
   ]
  },
  {
   "cell_type": "code",
   "execution_count": 4,
   "id": "empty-foundation",
   "metadata": {},
   "outputs": [],
   "source": [
    "# Redes neurais, funções de ativação, otimizadores e tensores\n",
    "import torch\n",
    "import torch.nn as nn\n",
    "import torch.nn.functional as F\n",
    "import torch.optim as optim\n",
    "# Dados, Conjuntos e Transformações\n",
    "from torch.utils.data import Dataset, DataLoader\n",
    "from torch.utils.data.sampler import SubsetRandomSampler\n",
    "import torchvision.transforms as transforms\n",
    "import string # para a construção de um dicionário essencial ao sistema\n",
    "# io do Sistema Operacional (para ler base de dados)\n",
    "import os\n",
    "from os import walk\n",
    "# Manipulação Gráfica (para plotar imagens e gráficos) e randomizações\n",
    "from skimage import transform # função para modificar facilmente o tamanho de uma imagem\n",
    "import matplotlib.pyplot as plt\n",
    "import numpy as np\n",
    "import random\n",
    "from datetime import datetime"
   ]
  },
  {
   "cell_type": "markdown",
   "id": "rising-berlin",
   "metadata": {},
   "source": [
    "---\n",
    "- **Vamos começar pelo Tratamento de Dados**\n",
    " - <i>Base de Dados: <u>[Massey Gesture Dataset](https://www.massey.ac.nz/~albarcza/gesture_dataset2012.html)</u></i>\n",
    " - É uma base de dados formada por **2515** imagens RGB de gestos no total (5 partes somadas)\n",
    " - As imagens são de **mãos sobre fundo preto** em gestos correspondentes a **números** [0 a 9] e **letras** [A a Z]\n",
    " - A **label** de cada imagem **está no nome do arquivo**, similar a: **<i>mão4_(LABEL)_etc_etc_etc_cropped.png</i>**\n",
    " - A label é um único caractere."
   ]
  },
  {
   "cell_type": "markdown",
   "id": "restricted-thunder",
   "metadata": {},
   "source": [
    "1. Definindo a Classe -> **DatasetMassey (herda de torch.utils.data.Dataset)**"
   ]
  },
  {
   "cell_type": "code",
   "execution_count": 5,
   "id": "welsh-platform",
   "metadata": {},
   "outputs": [],
   "source": [
    "class DatasetMassey(Dataset):\n",
    "    def __init__(self,raiz='Massey/handgestures_combinado/', transform=None):\n",
    "        #construtor da superclasse\n",
    "        super(DatasetMassey, self).__init__()\n",
    "        #ler dados\n",
    "        self.x = []\n",
    "        self.y = []\n",
    "        self.transform = transform\n",
    "        self.raiz = raiz\n",
    "        # loops para leitura de dados e preenchimento de X(dado) e Y(label)\n",
    "        for (_, _, filenames) in walk(raiz):\n",
    "            self.x.extend(sorted(filenames)) # adiciona o nome de arquivo a X\n",
    "            break\n",
    "        # para cada exemplo de X, pegue a label e armazene no dataset\n",
    "        for exemplo in self.x:\n",
    "            self.y.extend(exemplo[6])\n",
    "        \n",
    "        #armazene o tamanho do dataset\n",
    "        self.n_amostras = len(self.x)\n",
    "        self.n_classes = np.unique(self.y)\n",
    "        \n",
    "    def __getitem__(self, indice):\n",
    "        # Só aqui no GetItem, as imagens serão lidas de fato\n",
    "        # Isso ajuda na eficiência de memória e tempo, pois só lemos e carregamos do disco ao precisarmos delas\n",
    "        \n",
    "        caminho_de_arquivo = os.path.join(self.raiz, self.x[indice])\n",
    "        amostra = {'imagem':plt.imread(caminho_de_arquivo),'label':self.y[indice]}\n",
    "        \n",
    "        if self.transform:\n",
    "            amostra = self.transform(amostra)\n",
    "        \n",
    "        return amostra\n",
    "    \n",
    "    def __len__(self):\n",
    "        return self.n_amostras\n"
   ]
  },
  {
   "cell_type": "markdown",
   "id": "bigger-hanging",
   "metadata": {},
   "source": [
    "2. Testando nosso Dataset customizado:"
   ]
  },
  {
   "cell_type": "code",
   "execution_count": 6,
   "id": "swiss-testament",
   "metadata": {},
   "outputs": [
    {
     "data": {
      "image/png": "[encoded data removed]",
      "text/plain": [
       "<Figure size 432x288 with 4 Axes>"
      ]
     },
     "metadata": {
      "needs_background": "light"
     },
     "output_type": "display_data"
    },
    {
     "name": "stdout",
     "output_type": "stream",
     "text": [
      "Tamanho do Dataset: 2515\n"
     ]
    }
   ],
   "source": [
    "# Instanciar\n",
    "dataset = DatasetMassey()\n",
    "\n",
    "# Recuperar um Item\n",
    "for i in range(4):\n",
    "    amostra = dataset.__getitem__(i*100)\n",
    "    ax = plt.subplot(4,1,i+1)\n",
    "    ax.set_title(\"Gesto de: \"+str(amostra['label'])+\"\\nForma: \"+str(amostra['imagem'].shape))\n",
    "    ax.axis('off')\n",
    "    ax.imshow(amostra['imagem'])\n",
    "plt.tight_layout()\n",
    "plt.show()\n",
    "\n",
    "# Tamanho\n",
    "print(\"Tamanho do Dataset: \" + str(len(dataset)))"
   ]
  },
  {
   "cell_type": "code",
   "execution_count": 7,
   "id": "ordinary-praise",
   "metadata": {},
   "outputs": [
    {
     "name": "stdout",
     "output_type": "stream",
     "text": [
      "Maiores Valores: h:660 * w:590\n",
      "Menores Valores: h:177 * w:179\n"
     ]
    }
   ],
   "source": [
    "maior_h = 0\n",
    "maior_w = 0\n",
    "\n",
    "menor_h = 1000\n",
    "menor_w = 1000\n",
    "\n",
    "for i in range(len(dataset)):\n",
    "    amostra = dataset[i]\n",
    "    imagem = amostra['imagem']\n",
    "    forma = imagem.shape\n",
    "    \n",
    "    if (forma[0] > maior_h):\n",
    "        maior_h = forma[0]\n",
    "    elif (forma[0] < menor_h):\n",
    "        menor_h = forma[0]     \n",
    "    \n",
    "    if (forma[1] > maior_w):\n",
    "        maior_w = forma[1]\n",
    "    elif (forma[1] < menor_w):\n",
    "        menor_w = forma[1]    \n",
    "        \n",
    "print(f'Maiores Valores: h:{maior_h} * w:{maior_w}')\n",
    "print(f'Menores Valores: h:{menor_h} * w:{menor_w}')"
   ]
  },
  {
   "cell_type": "markdown",
   "id": "indirect-waste",
   "metadata": {},
   "source": [
    "3. Podemos ver que o nosso Dataset precisa de algumas transformações, pois as **imagens tem dimensões diferentes.**\n",
    "    - <i>Redes Neurais normalmente trabalham com imagens de dimensões iguais.</i>"
   ]
  },
  {
   "cell_type": "markdown",
   "id": "respective-sigma",
   "metadata": {},
   "source": [
    "4. Vamos definir algumas transformações necessárias para nosso DataSet:\n",
    "    1. **Rescale**: Modificar a escala da imagem para um formato fixo\n",
    "    2. **ToTensor**: Transformar as imagens em torch.Tensor"
   ]
  },
  {
   "cell_type": "code",
   "execution_count": 8,
   "id": "greenhouse-regulation",
   "metadata": {},
   "outputs": [],
   "source": [
    "class MinhaRescale(object):\n",
    "    def __init__(self, output_size):\n",
    "        assert isinstance(output_size, (int, tuple))\n",
    "        self.output_size = output_size\n",
    "   \n",
    "    def __call__(self, amostra):\n",
    "        imagem, label = amostra['imagem'], amostra['label']\n",
    "        h, w = imagem.shape[:2]\n",
    "        \n",
    "        new_h, new_w = self.output_size\n",
    "        new_h, new_w = int(new_h), int(new_w)\n",
    "        img = transform.resize(imagem, (new_h, new_w))\n",
    "        label = label\n",
    "        return {'imagem': img, 'label': label}\n"
   ]
  },
  {
   "cell_type": "markdown",
   "id": "opening-implement",
   "metadata": {},
   "source": [
    "---\n",
    "- As Labels são **strings**, para usarmos strings como tensores, precisamos **transformá-las em números**\n",
    "    - Vamos Utilizar Dicionários.\n",
    "    - Um número -> Uma Classe\n",
    "    - Definido o dicionário como:\n",
    "        - Chaves[0-9] -> Números [0-9]\n",
    "        - Chaves[10-]\n",
    "- As Imagens são **imagens do Numpy**, precisamos transformá-las em **imagens do Pytorch**\n",
    "    - Para serem tratadas como Tensores, precisamos transpor o número de canais como o primeiro índice"
   ]
  },
  {
   "cell_type": "code",
   "execution_count": 9,
   "id": "sticky-hudson",
   "metadata": {},
   "outputs": [],
   "source": [
    "class ToTensor(object):\n",
    "    def __init__(self):\n",
    "        # Cria uma lista com os caracteres em lowercase\n",
    "        letras = list(string.ascii_lowercase)\n",
    "        \n",
    "        # Cria uma lista com os dígitos numéricos decimais\n",
    "        numeros = list(string.digits)\n",
    "        \n",
    "        # Cria a lista unida de Dígitos e Letras (Que é todo o nosso conjunto de labels do Massey)\n",
    "        A_Grande_Lista = numeros+letras\n",
    "        \n",
    "        # Cria um dicionário vazio que será preenchido, mapeando Label -> índice numérico\n",
    "        self.O_Grande_Dicionario = dict()\n",
    "        \n",
    "#         print(A_Grande_Lista)\n",
    "\n",
    "        # Preenche o dicionário, mapeando cada item da lista de labels para um índice numérico\n",
    "        for i in range(len(A_Grande_Lista)):\n",
    "            self.O_Grande_Dicionario[A_Grande_Lista[i]] = i\n",
    "            if(i>=len(numeros)):\n",
    "                self.O_Grande_Dicionario[i] = A_Grande_Lista[i]\n",
    "        \n",
    "#         print(self.O_Grande_Dicionario)\n",
    "        \n",
    "    def __call__(self, amostra):\n",
    "        imagem, label = amostra['imagem'], amostra['label']\n",
    "        # Sobre a Label\n",
    "            # Devemos trocar a String por seu índice numérico no dicionário\n",
    "            # Com o índice numérico podemos transformar em um torch.Tensor\n",
    "        label = self.O_Grande_Dicionario[label]\n",
    "        label = torch.tensor(label)\n",
    "        \n",
    "        # Sobre a Imagem\n",
    "            # Devemos Trocar os eixos pois:\n",
    "            # imagem numpy: H x W x Canais\n",
    "            # imagem torch: Canais X H X W\n",
    "        imagem = imagem.transpose((2, 0, 1))\n",
    "        \n",
    "        # Retorno da Tupla de Tensores\n",
    "        return {'imagem': torch.from_numpy(imagem),\n",
    "                'label': label}\n",
    "    \n",
    "    # Função que retorna O Grande Dicionario\n",
    "    def getDicionario(self):\n",
    "        return self.O_Grande_Dicionario\n",
    "    \n",
    "    # Função que converte label de volta para String\n",
    "        # Só serve pra verificar se tá tudo OK\n",
    "    def TensorString(self, tensor):\n",
    "        item = tensor.item()\n",
    "        if( item > 9):\n",
    "            return self.O_Grande_Dicionario[item]\n",
    "        else:\n",
    "            return str(item)"
   ]
  },
  {
   "cell_type": "markdown",
   "id": "automotive-interaction",
   "metadata": {},
   "source": [
    "---\n",
    " - Esta transformação abaixo servirá apenas para transformar ***Tensores de imagens*** em ***imagens Numpy***"
   ]
  },
  {
   "cell_type": "code",
   "execution_count": 10,
   "id": "religious-gardening",
   "metadata": {},
   "outputs": [],
   "source": [
    "class ToNumpyImage(object):\n",
    "    def __call__(self, tensor_imagem):\n",
    "        imagem = tensor_imagem.permute(1, 2, 0)\n",
    "        return imagem"
   ]
  },
  {
   "cell_type": "markdown",
   "id": "wired-invention",
   "metadata": {},
   "source": [
    "---\n",
    "- Testando a transformação **MinhaScale** para **Resolução=(32,32)**"
   ]
  },
  {
   "cell_type": "code",
   "execution_count": 11,
   "id": "documentary-pledge",
   "metadata": {
    "scrolled": true
   },
   "outputs": [
    {
     "data": {
      "image/png": "[encoded data removed]",
      "text/plain": [
       "<Figure size 432x288 with 4 Axes>"
      ]
     },
     "metadata": {
      "needs_background": "light"
     },
     "output_type": "display_data"
    }
   ],
   "source": [
    "scale = MinhaRescale((32,32))\n",
    "\n",
    "for i in range(4):\n",
    "    amostra = scale(dataset[i*100])\n",
    "    ax = plt.subplot(4,1,i+1)\n",
    "    ax.set_title(\"Gesto de: \"+str(amostra['label'])+\"\\nForma: \"+str(amostra['imagem'].shape))\n",
    "    ax.axis('off')\n",
    "    ax.imshow(amostra['imagem'])\n",
    "plt.tight_layout()\n",
    "plt.show()"
   ]
  },
  {
   "cell_type": "markdown",
   "id": "actual-portsmouth",
   "metadata": {},
   "source": [
    "---\n",
    "- Testando a transformação **ToTensor** e a <u>Composta</u> **ToTensor(Scale(Amostra))**"
   ]
  },
  {
   "cell_type": "code",
   "execution_count": 12,
   "id": "northern-isaac",
   "metadata": {},
   "outputs": [],
   "source": [
    "# Instanciando MinhaRescale para resolução 32x32\n",
    "scale = MinhaRescale((32,32))\n",
    "\n",
    "# Instanciando ToTensor()\n",
    "t = ToTensor()\n",
    "\n",
    "# Composição é uma transformação -> MinhaRescale(32,32) -> ToTensor()\n",
    "composta = transforms.Compose([scale,t])"
   ]
  },
  {
   "cell_type": "markdown",
   "id": "disabled-broadcast",
   "metadata": {},
   "source": [
    "###### Teste ToTensor()"
   ]
  },
  {
   "cell_type": "code",
   "execution_count": 13,
   "id": "operating-animal",
   "metadata": {},
   "outputs": [
    {
     "name": "stdout",
     "output_type": "stream",
     "text": [
      "Antes de ToTensor()\t|  Tipo da Imagem: <class 'numpy.ndarray'> \t|\tTipo da Label <class 'str'>\n",
      "Após o ToTensor()\t|  Tipo da Imagem: <class 'torch.Tensor'> \t|\tTipo da Label <class 'torch.Tensor'>\n"
     ]
    }
   ],
   "source": [
    "amostra = dataset[500]\n",
    "print(\"Antes de ToTensor()\\t| \",\"Tipo da Imagem:\",type(amostra['imagem']),\"\\t|\\tTipo da Label\",type(amostra['label']))\n",
    "\n",
    "amostra = t(amostra)\n",
    "print(\"Após o ToTensor()\\t| \",\"Tipo da Imagem:\",type(amostra['imagem']),\"\\t|\\tTipo da Label\",type(amostra['label']))\n",
    "\n",
    "# dicionario = t.getDicionario()\n",
    "# print(\"Dicionário do ToTensor\")\n",
    "# for x in dicionario.keys():\n",
    "#     print(x,\":\",dicionario[x])\n",
    "    "
   ]
  },
  {
   "cell_type": "markdown",
   "id": "subsequent-remedy",
   "metadata": {},
   "source": [
    "###### Composta()"
   ]
  },
  {
   "cell_type": "code",
   "execution_count": 14,
   "id": "future-satin",
   "metadata": {},
   "outputs": [
    {
     "name": "stdout",
     "output_type": "stream",
     "text": [
      "Dimensões torch.Size([3, 32, 32]) \t|\tTipo: <class 'torch.Tensor'> \t|\tLabel:  tensor(0) = 0\n",
      "Dimensões torch.Size([3, 32, 32]) \t|\tTipo: <class 'torch.Tensor'> \t|\tLabel:  tensor(4) = 4\n",
      "Dimensões torch.Size([3, 32, 32]) \t|\tTipo: <class 'torch.Tensor'> \t|\tLabel:  tensor(8) = 8\n",
      "Dimensões torch.Size([3, 32, 32]) \t|\tTipo: <class 'torch.Tensor'> \t|\tLabel:  tensor(12) = c\n"
     ]
    },
    {
     "data": {
      "image/png": "[encoded data removed]",
      "text/plain": [
       "<Figure size 432x288 with 4 Axes>"
      ]
     },
     "metadata": {
      "needs_background": "light"
     },
     "output_type": "display_data"
    }
   ],
   "source": [
    "for i in range(4):\n",
    "    amostra = composta(dataset[i*100])\n",
    "    ax = plt.subplot(4,1,i+1)\n",
    "    ax.set_title(str(amostra['label'])+\"\\n\"+str(amostra['imagem'].shape))\n",
    "    ax.axis('off')\n",
    "    # De Imagem Tensor para Imagem Numpy:\n",
    "    imagem_np = amostra['imagem']\n",
    "    \n",
    "    print(\"Dimensões\",imagem_np.shape,\"\\t|\\tTipo:\", type(imagem_np),\"\\t|\\tLabel: \",amostra['label'],\"=\",t.TensorString(amostra['label']))\n",
    "    \n",
    "    plt.imshow(imagem_np.permute(1, 2, 0))\n",
    "    \n",
    "plt.tight_layout()\n",
    "plt.show()\n"
   ]
  },
  {
   "cell_type": "markdown",
   "id": "trained-standing",
   "metadata": {},
   "source": [
    "5. Como a <i>composta</i> funcionou, podemos reabrir o nosso DataSet passando ela como parâmetro.\n",
    " - Agora as imagens serão tensores com o mesmo tamanho."
   ]
  },
  {
   "cell_type": "code",
   "execution_count": 15,
   "id": "developed-thumb",
   "metadata": {},
   "outputs": [],
   "source": [
    "# Definindo a Transformação a ser utilizada\n",
    "transformação = transforms.Compose([MinhaRescale((32,32)),ToTensor()])\n",
    "\n",
    "# Instanciando Novo DataSet\n",
    "dataset = DatasetMassey(raiz=\"Massey/handgestures_combinado/\",transform=transformação)"
   ]
  },
  {
   "cell_type": "markdown",
   "id": "developed-universal",
   "metadata": {},
   "source": [
    "---\n",
    "##### <center>Testando Dataset com Transformador:</center>"
   ]
  },
  {
   "cell_type": "code",
   "execution_count": 16,
   "id": "greater-egyptian",
   "metadata": {},
   "outputs": [
    {
     "data": {
      "image/png": "[encoded data removed]",
      "text/plain": [
       "<Figure size 432x288 with 4 Axes>"
      ]
     },
     "metadata": {
      "needs_background": "light"
     },
     "output_type": "display_data"
    },
    {
     "name": "stdout",
     "output_type": "stream",
     "text": [
      "Tamanho do Dataset: 2515\n"
     ]
    }
   ],
   "source": [
    "para_np = ToNumpyImage()\n",
    "\n",
    "for i in range(4):\n",
    "    amostra = dataset[i*100]\n",
    "    ax = plt.subplot(4,1,i+1)\n",
    "    ax.set_title(\"Gesto de: \"+str(amostra['label'])+\"\\nForma: \"+str(amostra['imagem'].shape))\n",
    "    ax.axis('off')\n",
    "    ax.imshow(para_np(amostra['imagem']))\n",
    "\n",
    "plt.tight_layout()\n",
    "plt.show()\n",
    "\n",
    "# Tamanho\n",
    "print(\"Tamanho do Dataset: \" + str(len(dataset)))"
   ]
  },
  {
   "cell_type": "markdown",
   "id": "hairy-calcium",
   "metadata": {},
   "source": [
    "### <center>Finalmente! Temos um Dataset Funcional</center>\n",
    "---\n",
    "#### - Agora podemos implementar um **DataLoader** para a base.\n",
    " - Com o DataLoader podemos automatizar:\n",
    "     - <i>Batching\n",
    "     - Shuffling\n",
    "     - Paralelização de Leitura\n",
    "     - Sampler"
   ]
  },
  {
   "cell_type": "markdown",
   "id": "southern-piece",
   "metadata": {},
   "source": [
    "#### <center>Parâmetros para Construção do <i>DataLoader</i> e <i>Samplers</i></center>"
   ]
  },
  {
   "cell_type": "code",
   "execution_count": 17,
   "id": "danish-matthew",
   "metadata": {},
   "outputs": [],
   "source": [
    "# Tamanho do batch a ser utilizado (o DataLoader vai usar este tamanho de batch)\n",
    "tamanho_batch = 4\n",
    "\n",
    "# Deve-se misturar e aleatorizar a ordem dos índices do DataSet? (Para um bom Sampler, SIM)\n",
    "bagunçar = True\n",
    "\n",
    "# Número de leitores simultâneos para o DataSet (Se sua máquina aguentar,a paralelização vai agilizar as leituras)\n",
    "numero_threads = 1\n",
    "\n",
    "# Porcentagem do Dataset a ser separado para o conjunto de validação (PARÂMETRO IMPORTANTÍSSIMO) -> padrão de 20%\n",
    "porcentagem_split = .2\n",
    "\n",
    "# Um número qualquer para iniciar uma randomização (uma simples seed para random)\n",
    "seed_randomização = 42"
   ]
  },
  {
   "cell_type": "markdown",
   "id": "prescribed-bacon",
   "metadata": {},
   "source": [
    "---\n",
    "#### <center>Separando os Conjuntos</center>"
   ]
  },
  {
   "cell_type": "code",
   "execution_count": 18,
   "id": "sound-lunch",
   "metadata": {},
   "outputs": [],
   "source": [
    "# Lista dos índices do Dataset\n",
    "indices = list(range(len(dataset)))\n",
    "\n",
    "# Chão da Porcentagem * Tamanho do Dataset\n",
    "split = int(np.floor(porcentagem_split * len(dataset)))\n",
    "\n",
    "# Se é para Bagunçaro Dataset, então bagunce a ordem os índices da lista com base na semente randomica\n",
    "if bagunçar :\n",
    "    np.random.seed(seed_randomização)\n",
    "    np.random.shuffle(indices)\n",
    "\n",
    "# indices de treino recebe os primeiros SPLIT indices randomizados, os de validação recebem o resto\n",
    "indices_treino, indices_validação = indices[split:], indices[:split]"
   ]
  },
  {
   "cell_type": "markdown",
   "id": "wireless-hunter",
   "metadata": {},
   "source": [
    "#### <center>Conjuntos Separados</center>"
   ]
  },
  {
   "cell_type": "code",
   "execution_count": 19,
   "id": "under-delight",
   "metadata": {
    "scrolled": false
   },
   "outputs": [
    {
     "name": "stdout",
     "output_type": "stream",
     "text": [
      "Quantidade de Exemplos para Treinamento: 2012\n",
      "Quantidade de Exemplos para Validação: 503\n"
     ]
    }
   ],
   "source": [
    "print(f'Quantidade de Exemplos para Treinamento: {len(indices_treino)}\\nQuantidade de Exemplos para Validação: {len(indices_validação)}')"
   ]
  },
  {
   "cell_type": "markdown",
   "id": "shared-electronics",
   "metadata": {},
   "source": [
    "---\n",
    "- Definindo **Samplers** e **DataLoaders** para os conjuntos de Dados\n",
    " - **Samplers** definem os índices ou sequências de dados a serem utilizados no DataLoader\n",
    " - **DataLoaders** automatizam acessos e operações sobre o conjunto de dados"
   ]
  },
  {
   "cell_type": "code",
   "execution_count": 20,
   "id": "disciplinary-duration",
   "metadata": {},
   "outputs": [],
   "source": [
    "sampler_treino = SubsetRandomSampler(indices_treino)\n",
    "sampler_validação = SubsetRandomSampler(indices_validação)"
   ]
  },
  {
   "cell_type": "code",
   "execution_count": 21,
   "id": "drawn-baltimore",
   "metadata": {},
   "outputs": [],
   "source": [
    "loader_treino = torch.utils.data.DataLoader(dataset, batch_size=tamanho_batch, sampler=sampler_treino)\n",
    "loader_validação = torch.utils.data.DataLoader(dataset,batch_size=tamanho_batch, sampler=sampler_validação)"
   ]
  },
  {
   "cell_type": "markdown",
   "id": "broken-ebony",
   "metadata": {},
   "source": [
    "# EXEMPLO DE USO"
   ]
  },
  {
   "cell_type": "code",
   "execution_count": 22,
   "id": "ordered-uncertainty",
   "metadata": {},
   "outputs": [],
   "source": [
    "# numero_epocas = 10\n",
    "# for epoca in range(numero_epocas):\n",
    "#     # TREINO:   \n",
    "#     for indice_batch, (imagens, labels) in enumerate(loader_treino):\n",
    "#         # CÓDIGO DE TREINO"
   ]
  },
  {
   "cell_type": "markdown",
   "id": "isolated-virtue",
   "metadata": {},
   "source": [
    "---\n",
    "### <center>Construindo a Neural Convolucional</center>"
   ]
  },
  {
   "cell_type": "markdown",
   "id": "threatened-italian",
   "metadata": {},
   "source": [
    "---\n",
    "###### Primeiramente, vamos verificar se é possível calcular na GPU , pois na CPU  será muito mais lento."
   ]
  },
  {
   "cell_type": "code",
   "execution_count": 23,
   "id": "concerned-indication",
   "metadata": {
    "scrolled": false
   },
   "outputs": [
    {
     "name": "stdout",
     "output_type": "stream",
     "text": [
      "Utilizando: cuda\n"
     ]
    }
   ],
   "source": [
    "# Se a GPU estiver disponível, ela será nosso dispositivo de trabalho, se não, vamos ter que usar a coitada da CPU\n",
    "dispositivo = 'cuda' if torch.cuda.is_available() else 'cpu'\n",
    "\n",
    "print(\"Utilizando:\",dispositivo)"
   ]
  },
  {
   "cell_type": "markdown",
   "id": "altered-resource",
   "metadata": {},
   "source": [
    "---\n",
    "#### <center>Estrutura da Rede</center>\n",
    "- As camadas convolucionais são 2D, pois os dados tratados aqui são imagens."
   ]
  },
  {
   "cell_type": "code",
   "execution_count": 24,
   "id": "presidential-eagle",
   "metadata": {},
   "outputs": [],
   "source": [
    "class RedeConvolucional_Gestos(nn.Module):\n",
    "    def __init__(self, n_classes):\n",
    "        super(RedeConvolucional_Gestos,self).__init__()\n",
    "        \n",
    "        # Armazena numero de classes do problema\n",
    "        self.n_classes = n_classes\n",
    "        \n",
    "        # Função de Pool que será usada na Rede -> Kernel_Size = 2 , Stride = 2\n",
    "        self.pool = nn.MaxPool2d(kernel_size=2, stride=2)\n",
    "        \n",
    "        # Primeira camada\n",
    "        self.conv1 = nn.Conv2d(in_channels= 3, out_channels= 6, kernel_size=5)\n",
    "            \n",
    "        # Segunda camada\n",
    "        self.conv2 = nn.Conv2d(in_channels= 6, out_channels= 16, kernel_size=5)\n",
    "        \n",
    "        # Treceira camada\n",
    "        self.conv3 = nn.Conv2d(in_channels= 16, out_channels= 120 , kernel_size=5)\n",
    "        \n",
    "        # Primeira camada FC\n",
    "        self.fc1 = nn.Linear(in_features= 120, out_features= 84)\n",
    "        \n",
    "        # Segunda camada FC\n",
    "        self.fc2 = nn.Linear(in_features=84, out_features= self.n_classes)\n",
    "        \n",
    "    def forward(self,entrada):\n",
    "        \n",
    "#         print(\"Formato da Entrada: \",entrada.shape)\n",
    "        \n",
    "        saida = self.conv1(entrada)\n",
    "        saida = F.relu(saida)\n",
    "        saida = self.pool(saida)\n",
    "        \n",
    "#         print(\"Formato após Conv1+relu+pool: \",saida.shape)\n",
    "        \n",
    "        saida = self.conv2(saida)\n",
    "        saida = F.relu(saida)\n",
    "        saida = self.pool(saida)\n",
    "        \n",
    "#         print(\"Formato após Conv2+relu+pool: \",saida.shape)\n",
    "        \n",
    "        saida = self.conv3(saida)\n",
    "        saida = F.relu(saida)\n",
    "        \n",
    "#         print(\"Formato após Conv3+relu: \",saida.shape)\n",
    "        \n",
    "        saida = saida.view(-1,120)\n",
    "        \n",
    "#         print(saida.shape)\n",
    "        \n",
    "        saida = self.fc1(saida)\n",
    "        saida = F.relu(saida)\n",
    "        \n",
    "#         print(saida.shape)\n",
    "        \n",
    "        saida = self.fc2(saida)\n",
    "        \n",
    "#         print(saida.shape)\n",
    "        \n",
    "        return saida"
   ]
  },
  {
   "cell_type": "code",
   "execution_count": 25,
   "id": "unnecessary-forward",
   "metadata": {},
   "outputs": [],
   "source": [
    "# Instanciando e passando para a GPU (ou CPU)\n",
    "minha_rede = RedeConvolucional_Gestos(36).to(dispositivo)"
   ]
  },
  {
   "cell_type": "code",
   "execution_count": 26,
   "id": "hydraulic-storm",
   "metadata": {},
   "outputs": [
    {
     "name": "stdout",
     "output_type": "stream",
     "text": [
      "RedeConvolucional_Gestos(\n",
      "  (pool): MaxPool2d(kernel_size=2, stride=2, padding=0, dilation=1, ceil_mode=False)\n",
      "  (conv1): Conv2d(3, 6, kernel_size=(5, 5), stride=(1, 1))\n",
      "  (conv2): Conv2d(6, 16, kernel_size=(5, 5), stride=(1, 1))\n",
      "  (conv3): Conv2d(16, 120, kernel_size=(5, 5), stride=(1, 1))\n",
      "  (fc1): Linear(in_features=120, out_features=84, bias=True)\n",
      "  (fc2): Linear(in_features=84, out_features=36, bias=True)\n",
      ")\n"
     ]
    }
   ],
   "source": [
    "print(minha_rede)"
   ]
  },
  {
   "cell_type": "markdown",
   "id": "cloudy-lunch",
   "metadata": {},
   "source": [
    "---\n",
    "## <center>Treinando a Rede</center>\n",
    "#### <center>Parâmetros do Treinamento</center>"
   ]
  },
  {
   "cell_type": "code",
   "execution_count": 27,
   "id": "suffering-yellow",
   "metadata": {},
   "outputs": [],
   "source": [
    "taxa_de_aprendizado = 0.01\n",
    "\n",
    "criterio_avaliativo = nn.CrossEntropyLoss()\n",
    "\n",
    "otimizador = torch.optim.SGD(minha_rede.parameters(),lr = taxa_de_aprendizado)\n",
    "\n",
    "num_epocas = 0\n",
    "\n",
    "num_passos = len(loader_treino)"
   ]
  },
  {
   "cell_type": "code",
   "execution_count": 28,
   "id": "creative-retreat",
   "metadata": {
    "scrolled": false
   },
   "outputs": [
    {
     "name": "stdout",
     "output_type": "stream",
     "text": [
      "Iniciando Treinamento\n",
      "Fim do Treinamento\n"
     ]
    }
   ],
   "source": [
    "print(\"Iniciando Treinamento\")\n",
    "\n",
    "num_passos = len(loader_treino)\n",
    "\n",
    "for epoca in range(num_epocas):\n",
    "    for passo, amostra in enumerate(loader_treino):\n",
    "        # Setup\n",
    "            # Passando imagens e suas respectivas labels para a GPU (ou cpu)\n",
    "        imagens = amostra['imagem'].to(dispositivo)\n",
    "        labels = amostra['label'].to(dispositivo)\n",
    "        # Forward\n",
    "            # Calculando as induções e o custo\n",
    "        saidas = minha_rede(imagens)\n",
    "        custo = criterio_avaliativo(saidas,labels)\n",
    "        # Backward\n",
    "            # Otimizando\n",
    "        otimizador.zero_grad()\n",
    "        custo.backward()\n",
    "        otimizador.step()\n",
    "        # Reportar progresso\n",
    "        if (passo+1)%100 == 0:\n",
    "            print(f'Época [ {epoca+1} / {num_epocas} ]\\t|\\tPasso [ {passo+1:3} / {num_passos} ]\\t|\\tCusto [ {custo} ]')\n",
    "\n",
    "print(\"Fim do Treinamento\")"
   ]
  },
  {
   "cell_type": "markdown",
   "id": "pediatric-exhaust",
   "metadata": {},
   "source": [
    "---\n",
    "## <center>Calculando Precisão da Rede</center>"
   ]
  },
  {
   "cell_type": "code",
   "execution_count": 29,
   "id": "administrative-scanner",
   "metadata": {},
   "outputs": [
    {
     "name": "stdout",
     "output_type": "stream",
     "text": [
      "Precisão Geral sobre o Conjunto de Validação [ 3.7773359840954273% ]\n",
      "Precisão para a Classe [ 0 = 0.0% ]\n",
      "Precisão para a Classe [ 1 = 0.0% ]\n",
      "Precisão para a Classe [ 2 = 0.0% ]\n",
      "Precisão para a Classe [ 3 = 0.0% ]\n",
      "Precisão para a Classe [ 4 = 0.0% ]\n",
      "Precisão para a Classe [ 5 = 0.0% ]\n",
      "Precisão para a Classe [ 6 = 0.0% ]\n",
      "Precisão para a Classe [ 7 = 0.0% ]\n",
      "Precisão para a Classe [ 8 = 0.0% ]\n",
      "Precisão para a Classe [ 9 = 100.0% ]\n",
      "Precisão para a Classe [ a = 0.0% ]\n",
      "Precisão para a Classe [ b = 0.0% ]\n",
      "Precisão para a Classe [ c = 0.0% ]\n",
      "Precisão para a Classe [ d = 0.0% ]\n",
      "Precisão para a Classe [ e = 0.0% ]\n",
      "Precisão para a Classe [ f = 0.0% ]\n",
      "Precisão para a Classe [ g = 0.0% ]\n",
      "Precisão para a Classe [ h = 0.0% ]\n",
      "Precisão para a Classe [ i = 0.0% ]\n",
      "Precisão para a Classe [ j = 0.0% ]\n",
      "Precisão para a Classe [ k = 0.0% ]\n",
      "Precisão para a Classe [ l = 0.0% ]\n",
      "Precisão para a Classe [ m = 0.0% ]\n",
      "Precisão para a Classe [ n = 0.0% ]\n",
      "Precisão para a Classe [ o = 0.0% ]\n",
      "Precisão para a Classe [ p = 0.0% ]\n",
      "Precisão para a Classe [ q = 0.0% ]\n",
      "Precisão para a Classe [ r = 0.0% ]\n",
      "Precisão para a Classe [ s = 0.0% ]\n",
      "Precisão para a Classe [ t = 0.0% ]\n",
      "Precisão para a Classe [ u = 0.0% ]\n",
      "Precisão para a Classe [ v = 0.0% ]\n",
      "Precisão para a Classe [ w = 0.0% ]\n",
      "Precisão para a Classe [ x = 0.0% ]\n",
      "Precisão para a Classe [ y = 0.0% ]\n",
      "Precisão para a Classe [ z = 0.0% ]\n"
     ]
    }
   ],
   "source": [
    "with torch.no_grad():\n",
    "    n_corretos = 0\n",
    "    n_amostras = 0\n",
    "    n_classe_correta = [0 for i in range(36)]\n",
    "    n_amostra_classe = [0 for i in range(36)]\n",
    "    \n",
    "    for amostra in loader_validação:\n",
    "        imagens = amostra['imagem'].to(dispositivo)\n",
    "        labels = amostra['label'].to(dispositivo)\n",
    "        # Precisão Geral da Rede\n",
    "        saidas = minha_rede(imagens)\n",
    "        _, predição = torch.max(saidas,1)\n",
    "        n_amostras += labels.size(0)\n",
    "        n_corretos += (predição == labels).sum().item()\n",
    "        # Precisão Para cada Classe da Rede\n",
    "        for i in range(len(labels)):\n",
    "            label = labels[i]\n",
    "            pred = predição[i]\n",
    "            if (label == pred):\n",
    "                n_classe_correta[label] += 1\n",
    "            n_amostra_classe[label] +=1\n",
    "        \n",
    "        \n",
    "    # calc de precisão geral\n",
    "    precisão = 100.0 * n_corretos / n_amostras\n",
    "    print(f'Precisão Geral sobre o Conjunto de Validação [ {precisão}% ]')    \n",
    "    \n",
    "    # calc de precisão para cada classe\n",
    "    for i in range(36):\n",
    "        precisão_classe = 100.0 * n_classe_correta[i] / n_amostra_classe[i]\n",
    "        classe = t.TensorString(torch.tensor([i]))\n",
    "        print(f'Precisão para a Classe [ {classe} = {precisão_classe}% ]')    \n",
    "        \n",
    "    "
   ]
  },
  {
   "cell_type": "markdown",
   "id": "aquatic-magic",
   "metadata": {},
   "source": [
    "---\n",
    "# <center>Perfeito, Agora Podemos Salvar o Modelo</center>"
   ]
  },
  {
   "cell_type": "markdown",
   "id": "spectacular-bolivia",
   "metadata": {},
   "source": [
    "- **Salvando:**"
   ]
  },
  {
   "cell_type": "code",
   "execution_count": 30,
   "id": "level-allen",
   "metadata": {},
   "outputs": [],
   "source": [
    "# Salvar Modelo em \"caminho\"\n",
    "torch.save(minha_rede,'Primeira_CNN_Funcional')"
   ]
  },
  {
   "cell_type": "markdown",
   "id": "ranging-spectrum",
   "metadata": {},
   "source": [
    "- **Lendo:**"
   ]
  },
  {
   "cell_type": "code",
   "execution_count": 31,
   "id": "spoken-pierce",
   "metadata": {},
   "outputs": [],
   "source": [
    "# Ler Modelo de \"caminho\"\n",
    "essa_rede=torch.load('Primeira_CNN_Funcional')"
   ]
  },
  {
   "cell_type": "markdown",
   "id": "sunset-needle",
   "metadata": {},
   "source": [
    "- **Testando**:"
   ]
  },
  {
   "cell_type": "code",
   "execution_count": 32,
   "id": "multiple-michigan",
   "metadata": {
    "scrolled": false
   },
   "outputs": [
    {
     "name": "stdout",
     "output_type": "stream",
     "text": [
      "RedeConvolucional_Gestos(\n",
      "  (pool): MaxPool2d(kernel_size=2, stride=2, padding=0, dilation=1, ceil_mode=False)\n",
      "  (conv1): Conv2d(3, 6, kernel_size=(5, 5), stride=(1, 1))\n",
      "  (conv2): Conv2d(6, 16, kernel_size=(5, 5), stride=(1, 1))\n",
      "  (conv3): Conv2d(16, 120, kernel_size=(5, 5), stride=(1, 1))\n",
      "  (fc1): Linear(in_features=120, out_features=84, bias=True)\n",
      "  (fc2): Linear(in_features=84, out_features=36, bias=True)\n",
      ")\n"
     ]
    }
   ],
   "source": [
    "print(essa_rede)"
   ]
  },
  {
   "cell_type": "markdown",
   "id": "intellectual-brake",
   "metadata": {},
   "source": [
    "---\n",
    "# <center>Automatizar</center>"
   ]
  },
  {
   "cell_type": "markdown",
   "id": "determined-instruction",
   "metadata": {},
   "source": [
    "- Este código serve para automatizar as tarefas de:\n",
    "    1. Criar DataLoaders com diferentes parâmetros\n",
    "    2. Treinar Redes utilizando diferentes parâmetros\n",
    "        - Armazenar os Reports de cada rede em arquivos\n",
    "            - Salvar cada rede em um arquivo com seu nome *(índice)*"
   ]
  },
  {
   "cell_type": "code",
   "execution_count": 74,
   "id": "overall-indian",
   "metadata": {
    "scrolled": true
   },
   "outputs": [],
   "source": [
    "r = MinhaRescale((32,32))\n",
    "t = ToTensor()\n",
    "composta = transforms.Compose([r,t])\n",
    "\n",
    "massey = DatasetMassey(transform=composta)"
   ]
  },
  {
   "cell_type": "markdown",
   "id": "useful-position",
   "metadata": {},
   "source": [
    "### 1. Automatização de criação dos Dataloaders:"
   ]
  },
  {
   "cell_type": "code",
   "execution_count": 75,
   "id": "modified-aviation",
   "metadata": {},
   "outputs": [],
   "source": [
    "def CriarDataloaders(dataset=None, tamanho_batch=4, bagunçar=True, porcentagem_split=.2):\n",
    "    \n",
    "    if dataset is not None:   \n",
    "        string_report = \"\\nDataloaders [Teste e Treino]: tamanho_batch=\"+str(tamanho_batch)+\", bagunçar=\"+str(bagunçar)\n",
    "\n",
    "        dataset = dataset\n",
    "\n",
    "        indices = list(range(len(dataset)))\n",
    "\n",
    "        split = int(np.floor(porcentagem_split * len(dataset)))\n",
    "\n",
    "        if bagunçar :\n",
    "            # INICIA O RANDOMIZADOR NUMPY COM SEMENTE = TEMPO ATUAL DO PC\n",
    "            np.random.seed(random.seed(datetime.now()))\n",
    "            # MISTURA OS INDICES\n",
    "            np.random.shuffle(indices)\n",
    "\n",
    "        indices_treino, indices_validação = indices[split:], indices[:split]\n",
    "\n",
    "        sampler_treino = SubsetRandomSampler(indices_treino)\n",
    "        sampler_validação = SubsetRandomSampler(indices_validação)\n",
    "\n",
    "        loader_treino = torch.utils.data.DataLoader(dataset, batch_size=tamanho_batch, sampler=sampler_treino)\n",
    "        loader_validação = torch.utils.data.DataLoader(dataset,batch_size=tamanho_batch, sampler=sampler_validação)\n",
    "\n",
    "        return loader_treino, loader_validação, string_report\n",
    "    else:\n",
    "        print(\"Sem dataset = sem dados, sem dados = sem dataloaders\")\n",
    "        return None,None,None"
   ]
  },
  {
   "cell_type": "markdown",
   "id": "stock-reservoir",
   "metadata": {},
   "source": [
    "### 2. Automatização dos Treinos de Redes e Escrita dos Reports"
   ]
  },
  {
   "cell_type": "code",
   "execution_count": 76,
   "id": "auburn-exhibition",
   "metadata": {},
   "outputs": [],
   "source": [
    "def CalcularPrecisão(Rede=None):\n",
    "    minha_rede = Rede\n",
    "    with torch.no_grad():\n",
    "        n_corretos = 0\n",
    "        n_amostras = 0\n",
    "        n_classe_correta = [0 for i in range(36)]\n",
    "        n_amostra_classe = [0 for i in range(36)]\n",
    "\n",
    "        for amostra in loader_validação:\n",
    "            imagens = amostra['imagem'].to(dispositivo)\n",
    "            labels = amostra['label'].to(dispositivo)\n",
    "            # Precisão Geral da Rede\n",
    "            saidas = minha_rede(imagens)\n",
    "            _, predição = torch.max(saidas,1)\n",
    "            n_amostras += labels.size(0)\n",
    "            n_corretos += (predição == labels).sum().item()\n",
    "            # Precisão Para cada Classe da Rede\n",
    "            for i in range(len(labels)):\n",
    "                label = labels[i]\n",
    "                pred = predição[i]\n",
    "                if (label == pred):\n",
    "                    n_classe_correta[label] += 1\n",
    "                n_amostra_classe[label] +=1\n",
    "\n",
    "\n",
    "        # calc de precisão geral      \n",
    "        report=\"\\n\"\n",
    "        precisão = 100.0 * n_corretos / n_amostras\n",
    "        report+=f'Precisão Geral sobre o Conjunto de Validação [ {precisão}% ]'\n",
    "\n",
    "        # calc de precisão para cada classe\n",
    "        for i in range(36):\n",
    "            precisão_classe = 100.0 * n_classe_correta[i] / n_amostra_classe[i]\n",
    "            classe = t.TensorString(torch.tensor([i]))\n",
    "            report+=f'Precisão para a Classe [ {classe} = {precisão_classe}% ]'+\"\\n\"\n",
    "\n",
    "        return report"
   ]
  },
  {
   "cell_type": "code",
   "execution_count": 79,
   "id": "continental-canadian",
   "metadata": {},
   "outputs": [],
   "source": [
    "def Trinta_Execuções(num_epocas=50,lista_lr=[0.1,0.01,0.001,0.0001,0.00001],criterio=nn.CrossEntropyLoss(),dataset=None,num_execuções=30, loader_treino=None,loader_validação=None):\n",
    "   # Setup da função\n",
    "    if dataset is not None: \n",
    "    \n",
    "        dispositivo = 'cuda' if torch.cuda.is_available() else 'cpu'\n",
    "        print(\"Utilizando\",dispositivo)\n",
    "        criterio_avaliativo=criterio\n",
    "        \n",
    "        # Esta variável armazena uma lista de taxas de aprendizagem, que serão usadas (uma por execução) de forma cíclica\n",
    "        lista_lr = lista_lr\n",
    "        indice = 0\n",
    "        \n",
    "        for execução in range(num_execuções):\n",
    "            # Esta variável report vai guardar informações sobre o treino e os resultados, é resetada a cada execução\n",
    "            report = \"\"\n",
    "            \n",
    "            # Uma nova rede é criada a cada execução\n",
    "            rede = RedeConvolucional_Gestos(36).to(dispositivo)\n",
    "            \n",
    "            # Um novo otimizador é criado a cada execução, com uma nova taxa de aprendizado\n",
    "            lr = lista_lr[indice]\n",
    "            otimizador = torch.optim.SGD(minha_rede.parameters(),lr = lr)\n",
    "            indice +=1\n",
    "            indice %=  len(lista_lr)\n",
    "            \n",
    "            report+=\"Número de Épocas: \"+str(num_epocas)+\"\\nTaxa de Aprendizado: \"+str(lr)+\"\\nOtimizador: \"+str(otimizador)\n",
    "            \n",
    "            \n",
    "            print(\"Iniciando Treinamento - \",execução+1)\n",
    "\n",
    "            num_passos = len(loader_treino)\n",
    "\n",
    "            for epoca in range(num_epocas):\n",
    "                for passo, amostra in enumerate(loader_treino):\n",
    "                    # Setup\n",
    "                        # Passando imagens e suas respectivas labels para a GPU (ou cpu)\n",
    "                    imagens = amostra['imagem'].to(dispositivo)\n",
    "                    labels = amostra['label'].to(dispositivo)\n",
    "                    # Forward\n",
    "                        # Calculando as induções e o custo\n",
    "                    saidas = minha_rede(imagens)\n",
    "                    custo = criterio_avaliativo(saidas,labels)\n",
    "                    # Backward\n",
    "                        # Otimizando\n",
    "                    otimizador.zero_grad()\n",
    "                    custo.backward()\n",
    "                    otimizador.step()\n",
    "                    # Reportar progresso\n",
    "                    if (passo+1)%100 == 0:\n",
    "                        print(f'Época [ {epoca+1} / {num_epocas} ]\\t|\\tPasso [ {passo+1:3} / {num_passos} ]\\t|\\tCusto [ {custo} ]')\n",
    "\n",
    "            print(\"Fim do Treinamento - \",execução+1)\n",
    "            report +=\"\\n\"+str(rede)+\"\\n\"\n",
    "            torch.save(minha_rede,'{}-{}'.format(\"Rede_Exec\",execução))\n",
    "            print(\"Iniciando Cálculo de Precisão\")\n",
    "            report += CalcularPrecisão(minha_rede)\n",
    "            print(\"Finalizando Cálculo de Precisão\")\n",
    "            f= open('{}-{}.txt'.format(\"Report_Exec\",execução),'w')\n",
    "            f.write(report)\n",
    "            f.close()\n",
    "        print(\"Execuções Finalizadas --- FIM\")\n",
    "    else:\n",
    "        print(\"Sem rede, sem treinamento\")"
   ]
  },
  {
   "cell_type": "markdown",
   "id": "colonial-tradition",
   "metadata": {},
   "source": [
    "###### Executando e Escrevendo os Reports (30 execuções, variando -> Taxa de Aprendizado, Batch Size)"
   ]
  },
  {
   "cell_type": "code",
   "execution_count": 80,
   "id": "miniature-latter",
   "metadata": {
    "scrolled": true
   },
   "outputs": [
    {
     "name": "stdout",
     "output_type": "stream",
     "text": [
      "Utilizando cuda\n",
      "Iniciando Treinamento -  1\n",
      "Fim do Treinamento -  1\n",
      "Iniciando Cálculo de Precisão\n",
      "Finalizando Cálculo de Precisão\n",
      "Iniciando Treinamento -  2\n",
      "Fim do Treinamento -  2\n",
      "Iniciando Cálculo de Precisão\n",
      "Finalizando Cálculo de Precisão\n",
      "Iniciando Treinamento -  3\n",
      "Fim do Treinamento -  3\n",
      "Iniciando Cálculo de Precisão\n",
      "Finalizando Cálculo de Precisão\n",
      "Iniciando Treinamento -  4\n",
      "Fim do Treinamento -  4\n",
      "Iniciando Cálculo de Precisão\n",
      "Finalizando Cálculo de Precisão\n",
      "Iniciando Treinamento -  5\n",
      "Fim do Treinamento -  5\n",
      "Iniciando Cálculo de Precisão\n",
      "Finalizando Cálculo de Precisão\n",
      "Iniciando Treinamento -  6\n",
      "Fim do Treinamento -  6\n",
      "Iniciando Cálculo de Precisão\n",
      "Finalizando Cálculo de Precisão\n",
      "Iniciando Treinamento -  7\n",
      "Fim do Treinamento -  7\n",
      "Iniciando Cálculo de Precisão\n",
      "Finalizando Cálculo de Precisão\n",
      "Iniciando Treinamento -  8\n",
      "Fim do Treinamento -  8\n",
      "Iniciando Cálculo de Precisão\n",
      "Finalizando Cálculo de Precisão\n",
      "Iniciando Treinamento -  9\n",
      "Fim do Treinamento -  9\n",
      "Iniciando Cálculo de Precisão\n",
      "Finalizando Cálculo de Precisão\n",
      "Iniciando Treinamento -  10\n",
      "Fim do Treinamento -  10\n",
      "Iniciando Cálculo de Precisão\n",
      "Finalizando Cálculo de Precisão\n",
      "Iniciando Treinamento -  11\n",
      "Fim do Treinamento -  11\n",
      "Iniciando Cálculo de Precisão\n",
      "Finalizando Cálculo de Precisão\n",
      "Iniciando Treinamento -  12\n",
      "Fim do Treinamento -  12\n",
      "Iniciando Cálculo de Precisão\n",
      "Finalizando Cálculo de Precisão\n",
      "Iniciando Treinamento -  13\n",
      "Fim do Treinamento -  13\n",
      "Iniciando Cálculo de Precisão\n",
      "Finalizando Cálculo de Precisão\n",
      "Iniciando Treinamento -  14\n",
      "Fim do Treinamento -  14\n",
      "Iniciando Cálculo de Precisão\n",
      "Finalizando Cálculo de Precisão\n",
      "Iniciando Treinamento -  15\n",
      "Fim do Treinamento -  15\n",
      "Iniciando Cálculo de Precisão\n",
      "Finalizando Cálculo de Precisão\n",
      "Iniciando Treinamento -  16\n",
      "Fim do Treinamento -  16\n",
      "Iniciando Cálculo de Precisão\n",
      "Finalizando Cálculo de Precisão\n",
      "Iniciando Treinamento -  17\n",
      "Fim do Treinamento -  17\n",
      "Iniciando Cálculo de Precisão\n",
      "Finalizando Cálculo de Precisão\n",
      "Iniciando Treinamento -  18\n",
      "Fim do Treinamento -  18\n",
      "Iniciando Cálculo de Precisão\n",
      "Finalizando Cálculo de Precisão\n",
      "Iniciando Treinamento -  19\n",
      "Fim do Treinamento -  19\n",
      "Iniciando Cálculo de Precisão\n",
      "Finalizando Cálculo de Precisão\n",
      "Iniciando Treinamento -  20\n",
      "Fim do Treinamento -  20\n",
      "Iniciando Cálculo de Precisão\n",
      "Finalizando Cálculo de Precisão\n",
      "Iniciando Treinamento -  21\n",
      "Fim do Treinamento -  21\n",
      "Iniciando Cálculo de Precisão\n",
      "Finalizando Cálculo de Precisão\n",
      "Iniciando Treinamento -  22\n",
      "Fim do Treinamento -  22\n",
      "Iniciando Cálculo de Precisão\n",
      "Finalizando Cálculo de Precisão\n",
      "Iniciando Treinamento -  23\n",
      "Fim do Treinamento -  23\n",
      "Iniciando Cálculo de Precisão\n",
      "Finalizando Cálculo de Precisão\n",
      "Iniciando Treinamento -  24\n",
      "Fim do Treinamento -  24\n",
      "Iniciando Cálculo de Precisão\n",
      "Finalizando Cálculo de Precisão\n",
      "Iniciando Treinamento -  25\n",
      "Fim do Treinamento -  25\n",
      "Iniciando Cálculo de Precisão\n",
      "Finalizando Cálculo de Precisão\n",
      "Iniciando Treinamento -  26\n",
      "Fim do Treinamento -  26\n",
      "Iniciando Cálculo de Precisão\n",
      "Finalizando Cálculo de Precisão\n",
      "Iniciando Treinamento -  27\n",
      "Fim do Treinamento -  27\n",
      "Iniciando Cálculo de Precisão\n",
      "Finalizando Cálculo de Precisão\n",
      "Iniciando Treinamento -  28\n",
      "Fim do Treinamento -  28\n",
      "Iniciando Cálculo de Precisão\n",
      "Finalizando Cálculo de Precisão\n",
      "Iniciando Treinamento -  29\n",
      "Fim do Treinamento -  29\n",
      "Iniciando Cálculo de Precisão\n",
      "Finalizando Cálculo de Precisão\n",
      "Iniciando Treinamento -  30\n",
      "Fim do Treinamento -  30\n",
      "Iniciando Cálculo de Precisão\n",
      "Finalizando Cálculo de Precisão\n",
      "Execuções Finalizadas --- FIM\n"
     ]
    }
   ],
   "source": [
    "loader_treino,loader_validação,report = CriarDataloaders(dataset=dataset,tamanho_batch=64,bagunçar=True,porcentagem_split=.2)\n",
    "Trinta_Execuções(num_epocas=50,criterio=nn.CrossEntropyLoss(),dataset=massey,num_execuções=30,loader_treino=loader_treino,loader_validação=loader_validação)"
   ]
  }
 ],
 "metadata": {
  "kernelspec": {
   "display_name": "Python 3",
   "language": "python",
   "name": "python3"
  },
  "language_info": {
   "codemirror_mode": {
    "name": "ipython",
    "version": 3
   },
   "file_extension": ".py",
   "mimetype": "text/x-python",
   "name": "python",
   "nbconvert_exporter": "python",
   "pygments_lexer": "ipython3",
   "version": "3.8.5"
  }
 },
 "nbformat": 4,
 "nbformat_minor": 5
}
